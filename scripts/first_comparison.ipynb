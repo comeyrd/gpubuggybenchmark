{
 "cells": [
  {
   "cell_type": "code",
   "execution_count": null,
   "id": "9221ad03",
   "metadata": {},
   "outputs": [],
   "source": [
    "import seaborn as sns\n",
    "import matplotlib.pyplot as plt\n",
    "import pandas as pd\n",
    "import time,random;"
   ]
  },
  {
   "cell_type": "code",
   "execution_count": null,
   "id": "589bb5ef",
   "metadata": {},
   "outputs": [],
   "source": [
    "def draw_violin_single_plot_hue(df, kernel_name, hue_=\"repetitions_inside\"):\n",
    "    # Filter for the kernel\n",
    "    df_k = df[df[\"kernel\"] == kernel_name]\n",
    "    plt.figure(figsize=(8, 6))\n",
    "\n",
    "    sns.violinplot(\n",
    "        data=df_k,\n",
    "        x=\"compute_per_run\",   # your time variable\n",
    "        hue=hue_,        # different color per repetitions_inside\n",
    "        inner=\"point\",         # show individual points\n",
    "    )\n",
    "\n",
    "    plt.ylabel(\"\")\n",
    "    plt.title(f\"Comparing repetitions of kernel {kernel_name}\")\n",
    "    plt.xlabel(\"Execution time of one kernel (ms)\")\n",
    "    plt.savefig(f\"./figs/{kernel_name}-{int(time.time()*1000)}_{random.randint(0,9999)}.svg\", format=\"svg\", bbox_inches=\"tight\")\n",
    "\n",
    "    plt.show()\n",
    "    "
   ]
  },
  {
   "cell_type": "code",
   "execution_count": null,
   "id": "6450017f",
   "metadata": {},
   "outputs": [],
   "source": [
    "def draw_violin(df,kernel_name,comparing_with_above=0.5,rep_=\"repetitions_inside\"):\n",
    "    df_k = df[df[\"kernel\"] == kernel_name]\n",
    "\n",
    "\n",
    "    reps_order = sorted(df_k[rep_].unique())\n",
    "    nb_echantillons = sorted(df_k[\"repetitions_outside\"].unique())[0]\n",
    "\n",
    "    g = sns.FacetGrid(df_k, col=rep_, col_order=reps_order,\n",
    "                    margin_titles=True, height=4, sharex=False, sharey=True)\n",
    "\n",
    "    g.map(sns.violinplot, \"compute_per_run\",\n",
    "        inner=\"point\", color=\"tab:blue\")\n",
    "\n",
    "    g.set_axis_labels(\"Temps par exécution\", \"\")\n",
    "    for ax in g.axes.flatten():\n",
    "        if comparing_with_above != False:\n",
    "            df_k_sup_1 = df_k[df_k[rep_] > 0]\n",
    "            x_min, x_max = df_k_sup_1[\"compute_per_run\"].min(), df_k_sup_1[\"compute_per_run\"].max()\n",
    "            ax.set_xlim(x_min,x_max)\n",
    "        ax.set_xlabel(\"\")           # optional: remove x-label per facet\n",
    "        ax.set_ylabel(\"Temps par exécution\")\n",
    "\n",
    "    plt.subplots_adjust(top=0.8)\n",
    "    g.figure.suptitle(f\"Distribution du temps par exécution – Kernel: {kernel_name} - {nb_echantillons} Echantillons\")\n",
    "    plt.savefig(f\"./figs/{kernel_name}-{int(time.time()*1000)}_{random.randint(0,9999)}.svg\", format=\"svg\", bbox_inches=\"tight\")\n",
    "    plt.show()"
   ]
  },
  {
   "cell_type": "code",
   "execution_count": null,
   "id": "0952e4f1",
   "metadata": {},
   "outputs": [],
   "source": []
  },
  {
   "cell_type": "code",
   "execution_count": null,
   "id": "2183bee8",
   "metadata": {},
   "outputs": [],
   "source": [
    "inside_csv = \"../src/build/csv/benchmarking_inside.csv\"\n",
    "df_inside = pd.read_csv(inside_csv)\n",
    "df_reference_inside = df_inside[df_inside['version'].str.contains(\"Reference\")]\n",
    "df_reference_inside['compute_per_run'] = df_reference_inside['compute'] / df_reference_inside['repetitions_inside']"
   ]
  },
  {
   "cell_type": "code",
   "execution_count": null,
   "id": "d17a4d0c",
   "metadata": {},
   "outputs": [],
   "source": [
    "draw_violin_single_plot_hue(df_reference_inside,\"Accuracy\")\n",
    "draw_violin(df_reference_inside,\"Accuracy\",False)"
   ]
  },
  {
   "cell_type": "code",
   "execution_count": null,
   "id": "805bca5f",
   "metadata": {},
   "outputs": [],
   "source": [
    "draw_violin_single_plot_hue(df_reference_inside,\"Bilateral\")\n",
    "draw_violin(df_reference_inside,\"Bilateral\",False)"
   ]
  },
  {
   "cell_type": "code",
   "execution_count": null,
   "id": "a213f132",
   "metadata": {},
   "outputs": [],
   "source": [
    "outside_csv = \"../src/build/csv/benchmarking_outside.csv\"\n",
    "df_outside = pd.read_csv(outside_csv)\n",
    "df_reference_outside = df_outside[df_outside['version'].str.contains(\"Reference\")]\n",
    "df_reference_outside['compute_per_run'] = df_reference_outside['compute'] / df_reference_outside['repetitions_inside']"
   ]
  },
  {
   "cell_type": "code",
   "execution_count": null,
   "id": "ed3acb40",
   "metadata": {},
   "outputs": [],
   "source": [
    "df_reference_outside"
   ]
  },
  {
   "cell_type": "code",
   "execution_count": null,
   "id": "e6a31a4d",
   "metadata": {},
   "outputs": [],
   "source": [
    "draw_violin(df_reference_outside,\"Accuracy\",False,\"repetitions_outside\")"
   ]
  },
  {
   "cell_type": "code",
   "execution_count": null,
   "id": "696e3e40",
   "metadata": {},
   "outputs": [],
   "source": [
    "df_temp = df_reference_outside[df_reference_outside[\"repetitions_outside\"]>10]\n",
    "draw_violin_single_plot_hue(df_temp,\"Accuracy\",\"repetitions_outside\")"
   ]
  },
  {
   "cell_type": "code",
   "execution_count": null,
   "id": "7bff880f",
   "metadata": {},
   "outputs": [],
   "source": [
    "draw_violin_single_plot_hue(df_reference_outside,\"Bilateral\",\"repetitions_outside\")"
   ]
  },
  {
   "cell_type": "code",
   "execution_count": null,
   "id": "08824ef6",
   "metadata": {},
   "outputs": [],
   "source": [
    "def draw_violin_single_plot_bugs(df, kernel_name):\n",
    "    # Filter for the kernel\n",
    "    df_k = df[df[\"kernel\"] == kernel_name]\n",
    "    plt.figure(figsize=(8, 6))\n",
    "\n",
    "    sns.violinplot(\n",
    "        data=df_k,\n",
    "        x=\"compute_per_run\",   # your time variable\n",
    "        y=\"version\",\n",
    "        hue=\"version\",     \n",
    "        inner=\"point\",         # show individual points\n",
    "    )\n",
    "\n",
    "    plt.ylabel(\"Versions\")\n",
    "    plt.title(f\"Comparing execution times of kernel {kernel_name} with bugs\")\n",
    "    plt.xlabel(\"Execution time of one kernel (ms)\")\n",
    "    plt.savefig(f\"./figs/{kernel_name}-{int(time.time()*1000)}_{random.randint(0,9999)}.svg\", format=\"svg\", bbox_inches=\"tight\")\n",
    "\n",
    "    plt.show()\n",
    "    "
   ]
  },
  {
   "cell_type": "code",
   "execution_count": null,
   "id": "846e7ab1",
   "metadata": {},
   "outputs": [],
   "source": [
    "bugs_csv = \"../src/build/csv/comparing_bugs.csv\"\n",
    "df_bugs = pd.read_csv(bugs_csv)\n",
    "df_bugs['compute_per_run'] = df_bugs['compute'] / df_bugs['repetitions_inside']"
   ]
  },
  {
   "cell_type": "code",
   "execution_count": null,
   "id": "4ea789b7",
   "metadata": {},
   "outputs": [],
   "source": [
    "draw_violin_single_plot_bugs(df_bugs,\"Accuracy\")"
   ]
  }
 ],
 "metadata": {
  "kernelspec": {
   "display_name": ".venv (3.8.20)",
   "language": "python",
   "name": "python3"
  },
  "language_info": {
   "codemirror_mode": {
    "name": "ipython",
    "version": 3
   },
   "file_extension": ".py",
   "mimetype": "text/x-python",
   "name": "python",
   "nbconvert_exporter": "python",
   "pygments_lexer": "ipython3",
   "version": "3.8.20"
  }
 },
 "nbformat": 4,
 "nbformat_minor": 5
}
