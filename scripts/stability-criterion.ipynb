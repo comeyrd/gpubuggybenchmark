{
 "cells": [
  {
   "cell_type": "code",
   "execution_count": null,
   "id": "5269f4fb",
   "metadata": {},
   "outputs": [],
   "source": [
    "import os\n",
    "import pickle\n",
    "\n",
    "def load_or_compute(pickle_path, compute_func, *args, **kwargs):\n",
    "    if os.path.exists(pickle_path):\n",
    "        with open(pickle_path, \"rb\") as f:\n",
    "            return pickle.load(f)\n",
    "    \n",
    "    result = compute_func(*args, **kwargs)\n",
    "    \n",
    "    with open(pickle_path, \"wb\") as f:\n",
    "        pickle.dump(result, f)\n",
    "    \n",
    "    return result\n",
    "\n",
    "def save_to_pickle(pickle_path,data):\n",
    "    with open(pickle_path, \"wb\") as f:\n",
    "        pickle.dump(data, f)\n",
    "    \n",
    "import textwrap\n",
    "\n",
    "def wrap_title(title, width=25):\n",
    "    return \"\\n\".join(textwrap.wrap(title, width))\n"
   ]
  },
  {
   "cell_type": "code",
   "execution_count": null,
   "id": "7b594bf3",
   "metadata": {},
   "outputs": [],
   "source": [
    "import seaborn as sns\n",
    "import matplotlib.pyplot as plt\n",
    "import pandas as pd\n",
    "import time,random\n",
    "import numpy as np\n",
    "import scipy.stats as scistats"
   ]
  },
  {
   "cell_type": "code",
   "execution_count": null,
   "id": "f1579ff2",
   "metadata": {},
   "outputs": [],
   "source": [
    "def load_experiment(path):\n",
    "    df_experiment = pd.read_csv(path)\n",
    "    df_experiment[\"warmup_duration\"] = df_experiment[\"warmup_duration\"].apply(lambda x: [float(i) for i in x.split('|')])\n",
    "    df_experiment[\"repetitions_duration\"] = df_experiment[\"repetitions_duration\"].apply(lambda x: [float(i) for i in x.split('|')])\n",
    "    df_experiment['warmup_duration'] = df_experiment['warmup_duration'].apply(lambda x: [] if x == [0.0] else x)\n",
    "    return df_experiment"
   ]
  },
  {
   "cell_type": "code",
   "execution_count": null,
   "id": "fe8fe76c",
   "metadata": {},
   "outputs": [],
   "source": [
    "EXPERIMENT_25_FILE = \"../src/build/csv/experiment-25-09-2025.csv\""
   ]
  },
  {
   "cell_type": "code",
   "execution_count": null,
   "id": "fbff1744",
   "metadata": {},
   "outputs": [],
   "source": [
    "def compare_two_cdf(dataframe,x_name=\"repetitions_duration\",hue_name=\"version\"):\n",
    "    hue_ = dataframe[hue_name].unique()\n",
    "    colors = sns.color_palette(\"tab10\", n_colors=len(hue_))\n",
    "    for i, u_hue in enumerate(hue_):\n",
    "        temp_df = dataframe[dataframe[hue_name] == u_hue]\n",
    "        sorted_data = np.sort(temp_df[x_name])\n",
    "        cdf = np.arange(1, len(sorted_data)+1) / len(sorted_data)\n",
    "        plt.plot(sorted_data, cdf, marker='.', color=colors[i],linestyle='none',label=u_hue)\n",
    "    plt.xlabel('x')\n",
    "    plt.ylabel('CDF')\n",
    "    plt.title(f'Empirical CDF of execution time')\n",
    "    plt.legend()\n",
    "    plt.grid(True)\n",
    "    plt.show()"
   ]
  },
  {
   "cell_type": "code",
   "execution_count": null,
   "id": "3c608e9a",
   "metadata": {},
   "outputs": [],
   "source": [
    "def compare_densities(dataframe,x_name=\"repetitions_duration\",hue_name=\"version\"):\n",
    "    palette = sns.color_palette(\"tab10\", n_colors=dataframe[hue_name].nunique())\n",
    "    sns.histplot(\n",
    "        data=dataframe,\n",
    "        x=x_name,\n",
    "        hue=hue_name,\n",
    "        kde=True,            # overlay KDE\n",
    "        stat=\"density\",      # normalize histogram to match KDE\n",
    "        multiple=\"layer\",    # overlay multiple categories\n",
    "        alpha=0.4,           # transparency\n",
    "        palette=palette,\n",
    "    )\n",
    "    plt.title(\"Distribution of the execution time\")\n"
   ]
  },
  {
   "cell_type": "code",
   "execution_count": null,
   "id": "01738519",
   "metadata": {},
   "outputs": [],
   "source": [
    "def plot_comparing_two_versions_single_repetitions(dataframe:pd.DataFrame,warmup=5,repetitions=1000,versions=[\"ReferenceAccuracy\",\"BCAccuracy\"]):\n",
    "    fig, axs = plt.subplots(1, 2, figsize=(12, 6), constrained_layout=True)\n",
    "    temp_df = dataframe[dataframe[\"warmup\"]==warmup]\n",
    "    temp_df = dataframe[dataframe[\"repetitions\"]==repetitions]\n",
    "    temp_df = temp_df[temp_df[\"version\"].isin(versions)]\n",
    "    temp_df = temp_df.drop_duplicates(subset=[\"repetitions\",\"version\"], keep=\"first\")\n",
    "    temp_df_exploded = temp_df.explode('repetitions_duration')\n",
    "    fig.suptitle(f\"Comparing versions {', '.join(versions)} with repetitions {repetitions}\", fontsize=14)\n",
    "\n",
    "    plt.sca(axs[0])              # Make this axes the active one\n",
    "    compare_densities(temp_df_exploded,x_name=\"repetitions_duration\",hue_name=\"version\")\n",
    "    plt.sca(axs[1])\n",
    "    compare_two_cdf(temp_df_exploded,x_name=\"repetitions_duration\",hue_name=\"version\")\n",
    "    \n",
    "\n",
    "    return fig"
   ]
  },
  {
   "cell_type": "code",
   "execution_count": null,
   "id": "78992251",
   "metadata": {},
   "outputs": [],
   "source": [
    "df_e = load_experiment(EXPERIMENT_25_FILE)\n",
    "temp_df = df_e[df_e[\"warmup\"]==5]\n",
    "versionss = temp_df[temp_df[\"kernel\"].str.contains(\"Bilateral\")][\"version\"].unique()\n",
    "\n",
    "for repetitions in np.sort(temp_df[\"repetitions\"].unique()):\n",
    "    g = plot_comparing_two_versions_single_repetitions(df_e,repetitions=repetitions,versions=versionss)\n",
    "    plt.show()\n",
    "    plt.close(g)"
   ]
  },
  {
   "cell_type": "code",
   "execution_count": null,
   "id": "5aea787a",
   "metadata": {},
   "outputs": [],
   "source": [
    "from tqdm import tqdm\n",
    "def boostrap_std(row,confidence):\n",
    "    res = scistats.bootstrap((row[\"repetitions_duration\"],),np.std,confidence_level=confidence)\n",
    "    return res.confidence_interval,res.bootstrap_distribution,res.standard_error\n",
    "\n",
    "def load_n_compute_dataframe(confidence=0.9):\n",
    "    df_e = load_experiment(EXPERIMENT_25_FILE)\n",
    "    df_e['ci_low'] = None\n",
    "    df_e['ci_high'] = None\n",
    "    df_e['ci_level'] = confidence\n",
    "    df_e['boostrap_data'] = None\n",
    "    df_e['std_error'] = None\n",
    "\n",
    "    for idx in tqdm(df_e.index):\n",
    "        conf,data,std = boostrap_std(df_e.loc[idx],confidence)\n",
    "        df_e.at[idx,'ci_low'] = conf.low\n",
    "        df_e.at[idx,'ci_high'] = conf.high\n",
    "        df_e.at[idx,'boostrap_data'] = data\n",
    "        df_e.at[idx,'std_error'] = std\n",
    "    return df_e"
   ]
  },
  {
   "cell_type": "code",
   "execution_count": null,
   "id": "ef41720e",
   "metadata": {},
   "outputs": [],
   "source": [
    "def plot_multiple_densities(dataframe,hue,x_name=\"repetitions_duration\",weights_=None,title=\"\"):\n",
    "    palette = sns.color_palette(\"tab20\", n_colors=dataframe[hue].nunique())\n",
    "    if weights_:\n",
    "        sns.kdeplot(\n",
    "            data=dataframe,\n",
    "            x=x_name,\n",
    "            weights=dataframe[weights_],  \n",
    "            hue=hue,\n",
    "            common_norm=False,\n",
    "            palette=palette,\n",
    "            fill=True,\n",
    "            alpha=0.4\n",
    "        )\n",
    "    else:\n",
    "         sns.kdeplot(\n",
    "            data=dataframe,\n",
    "            x=x_name,\n",
    "            hue=hue,\n",
    "            common_norm=False,\n",
    "            palette=palette,\n",
    "            fill=True,\n",
    "            alpha=0.4\n",
    "        )\n",
    "    plt.title(wrap_title(title,35))\n"
   ]
  },
  {
   "cell_type": "code",
   "execution_count": null,
   "id": "ef41720e",
   "metadata": {},
   "outputs": [],
   "source": [
    "def interval_plot(ix,high,low,horizontal_line_width=0.25,color='#2187bb'):\n",
    "    width =  horizontal_line_width / 2\n",
    "    plt.plot([ix, ix], [high, low], color=color)\n",
    "    plt.plot([ix-width, ix+width], [high, high], color=color)\n",
    "    plt.plot([ix-width, ix+width], [low, low], color=color)"
   ]
  },
  {
   "cell_type": "code",
   "execution_count": null,
   "id": "26c7d5a1",
   "metadata": {},
   "outputs": [],
   "source": [
    "def compare_std_std_precision(dataframe,precision=0.0005):\n",
    "    lbls = ['Precision']\n",
    "    lbls.extend(dataframe[\"repetitions\"].astype(str).tolist())\n",
    "    plt.xticks(ticks=np.arange(len(lbls)), labels=lbls) \n",
    "    middle = np.mean(((dataframe[\"ci_high\"] - dataframe[\"ci_low\"]) / 2) + dataframe[\"ci_low\"])\n",
    "    interval_plot(0,middle + precision/2,middle - precision/2,color=\"red\")\n",
    "    for i in range(len(dataframe)):\n",
    "        interval_plot(i+1,dataframe.iloc[i].ci_high, dataframe.iloc[i].ci_low,color=\"blue\")  \n",
    "        plt.title(wrap_title(\"Measure precision vs 90% confidence interval of the standard deviation\",40))"
   ]
  },
  {
   "cell_type": "code",
   "execution_count": null,
   "id": "18488481",
   "metadata": {},
   "outputs": [],
   "source": [
    "def plot_evolution_std_error(dataframe):\n",
    "    plt.plot(dataframe[\"repetitions\"], dataframe[\"std_error\"], marker='o')\n",
    "    plt.xlabel(\"nbr of repetitions\")\n",
    "    plt.ylabel(\"standard error\")\n",
    "    plt.title(\"Evolution of Standard error of standard deviation\")\n"
   ]
  },
  {
   "cell_type": "code",
   "execution_count": null,
   "id": "c98a61b3",
   "metadata": {},
   "outputs": [],
   "source": [
    "def plot_compare_repetitions_single_version(dataframe:pd.DataFrame,warmup=5,version=\"ReferenceAccuracy\"):\n",
    "    fig, axs = plt.subplots(1, 4, figsize=(16, 6), constrained_layout=True)\n",
    "    temp_df = dataframe[dataframe[\"warmup\"]==warmup]\n",
    "    temp_df = temp_df[temp_df[\"version\"].str.contains(version)]\n",
    "    temp_df = temp_df.drop_duplicates(subset=[\"repetitions\",\"version\"], keep=\"first\")\n",
    "    temp_df_exploded = temp_df.explode('repetitions_duration')\n",
    "    temp_df_exploded['weight'] = temp_df_exploded.groupby('repetitions')['repetitions_duration'].transform(lambda x: 1/len(x))\n",
    "    plt.sca(axs[0])              # Make this axes the active one\n",
    "    plot_multiple_densities(dataframe=temp_df_exploded,hue=\"repetitions\",weights_='weight',title=\"Distribution of the execution time\")\n",
    "    \n",
    "    temp_df_exploded_boot = temp_df.explode('boostrap_data')\n",
    "    plt.sca(axs[1])\n",
    "    plot_multiple_densities(temp_df_exploded_boot,hue=\"repetitions\",x_name='boostrap_data',title=\"Distribution of boostrapped standard deviation\")\n",
    "\n",
    "    plt.sca(axs[2])\n",
    "    compare_std_std_precision(temp_df)\n",
    "    plt.sca(axs[3])\n",
    "    plot_evolution_std_error(temp_df)\n",
    "    fig.suptitle(f\"Comparing Kernel execution time with different number of repetitions for Kernel {version}\", fontsize=16)\n",
    "    return fig\n"
   ]
  },
  {
   "cell_type": "code",
   "execution_count": null,
   "id": "f524dabb",
   "metadata": {},
   "outputs": [],
   "source": [
    "DF_EXPERIMENT_PICKLE = \"./boostrapped_data.df.pickle\"\n",
    "df_experiment_boostraped = load_or_compute(pickle_path=DF_EXPERIMENT_PICKLE,compute_func=load_n_compute_dataframe)"
   ]
  },
  {
   "cell_type": "code",
   "execution_count": null,
   "id": "f524dabb",
   "metadata": {},
   "outputs": [],
   "source": [
    "f = plot_compare_repetitions_single_version(df_experiment_boostraped)"
   ]
  },
  {
   "cell_type": "code",
   "execution_count": null,
   "id": "a38856f4",
   "metadata": {},
   "outputs": [],
   "source": [
    "def plot_compare_repetitions_all(df_experiment_boostrap):\n",
    "    for version in df_experiment_boostrap[\"version\"].unique():\n",
    "        fig = plot_compare_repetitions_single_version(df_experiment_boostrap,version=version)\n",
    "        plt.show()\n",
    "        plt.close(fig)"
   ]
  },
  {
   "cell_type": "code",
   "execution_count": null,
   "id": "a38856f4",
   "metadata": {},
   "outputs": [],
   "source": [
    "plot_compare_repetitions_all(df_experiment_boostraped)"
   ]
  }
 ],
 "metadata": {
  "kernelspec": {
   "display_name": ".venv (3.8.20)",
   "language": "python",
   "name": "python3"
  },
  "language_info": {
   "codemirror_mode": {
    "name": "ipython",
    "version": 3
   },
   "file_extension": ".py",
   "mimetype": "text/x-python",
   "name": "python",
   "nbconvert_exporter": "python",
   "pygments_lexer": "ipython3",
   "version": "3.8.20"
  }
 },
 "nbformat": 4,
 "nbformat_minor": 5
}
