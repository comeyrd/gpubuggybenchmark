{
 "cells": [
  {
   "cell_type": "code",
   "execution_count": null,
   "id": "0912ca38",
   "metadata": {},
   "outputs": [],
   "source": [
    "import seaborn as sns\n",
    "import matplotlib.pyplot as plt\n",
    "import pandas as pd\n",
    "import time,random;"
   ]
  },
  {
   "cell_type": "code",
   "execution_count": null,
   "id": "3d6ba280",
   "metadata": {},
   "outputs": [],
   "source": []
  },
  {
   "cell_type": "code",
   "execution_count": null,
   "id": "04017f8e",
   "metadata": {},
   "outputs": [],
   "source": [
    "experiment_25_file = \"../src/build/csv/experiment-25-09-2025.csv\"\n",
    "df_experiment = pd.read_csv(experiment_25_file)\n",
    "df_experiment[\"warmup_duration\"] = df_experiment[\"warmup_duration\"].apply(lambda x: [float(i) for i in x.split('|')])\n",
    "df_experiment[\"repetitions_duration\"] = df_experiment[\"repetitions_duration\"].apply(lambda x: [float(i) for i in x.split('|')])\n",
    "df_experiment['warmup_duration'] = df_experiment['warmup_duration'].apply(lambda x: [] if x == [0.0] else x)\n",
    "df_exp_ref = df_experiment[df_experiment['version'].str.contains(\"Reference\")]\n"
   ]
  },
  {
   "cell_type": "code",
   "execution_count": null,
   "id": "a0f504fc",
   "metadata": {},
   "outputs": [],
   "source": [
    "df_exp_ref"
   ]
  },
  {
   "cell_type": "code",
   "execution_count": null,
   "id": "4af9c8b2",
   "metadata": {},
   "outputs": [],
   "source": [
    "def boxplot_benchmark_warmup(df_one_ref,fixed_repetitions=400,version=\"\",ax=None):\n",
    "    warmup_df = df_one_ref[['warmup','repetitions','warmup_duration']].explode('warmup_duration')\n",
    "    warmup_df = warmup_df.rename(columns={'warmup_duration': 'duration'})\n",
    "    warmup_df[\"type\"] = \"warmup\"\n",
    "    \n",
    "    repetitions_df = df_one_ref[['warmup','repetitions','repetitions_duration']].explode('repetitions_duration')\n",
    "    repetitions_df = repetitions_df.rename(columns={'repetitions_duration': 'duration'})\n",
    "    repetitions_df[\"type\"] = \"repetitions\"\n",
    "    long_df = pd.concat([warmup_df, repetitions_df], ignore_index=True)\n",
    "    long_df.dropna(inplace=True)\n",
    "    long_df = long_df[long_df[\"repetitions\"]==fixed_repetitions]\n",
    "    if ax is None:\n",
    "        plt.figure(figsize=(8,8))\n",
    "        sns.boxplot(long_df, x=\"warmup\",y=\"duration\",hue=\"type\",fill=False)\n",
    "        plt.title(f\"Benchmarking of wamup for version {version}\")\n",
    "        plt.xlabel(\"Number of Warmup executions\")\n",
    "        plt.ylabel(\"Duration of a kernel (ms)\")\n",
    "    else:\n",
    "        sns.boxplot(long_df, x=\"warmup\",y=\"duration\",hue=\"type\",fill=False,ax=ax)\n",
    "        ax.set_title(f\"Benchmarking of wamup for version {version}\")\n",
    "        ax.set_xlabel(\"Number of Warmup executions\")\n",
    "        ax.set_ylabel(\"Duration of a kernel (ms)\")\n",
    "   "
   ]
  },
  {
   "cell_type": "code",
   "execution_count": null,
   "id": "8d7b1c4a",
   "metadata": {},
   "outputs": [],
   "source": [
    "def boxplot_benchmark_repetitions(df_one_ref,fixed_warmup=5,version=\"\",ax=None):\n",
    "    repetitions_df = df_one_ref[['warmup','repetitions','repetitions_duration']].explode('repetitions_duration')\n",
    "    repetitions_df = repetitions_df.rename(columns={'repetitions_duration': 'duration'})\n",
    "    repetitions_df.dropna(inplace=True)\n",
    "    repetitions_df = repetitions_df[repetitions_df[\"warmup\"]==fixed_warmup]\n",
    "    if ax is None:\n",
    "        plt.figure(figsize=(8,8))\n",
    "        sns.boxplot(repetitions_df, x=\"repetitions\",y=\"duration\",fill=False)\n",
    "        plt.title(f\"Benchmarking of repetitions for version {version}\")\n",
    "        plt.xlabel(\"Number of repetitions\")\n",
    "        plt.ylabel(\"Duration of a kernel (ms)\")\n",
    "    else:\n",
    "        sns.boxplot(repetitions_df, x=\"repetitions\",y=\"duration\",fill=False,ax=ax)\n",
    "        ax.set_title(f\"Benchmarking of repetitions for version {version}\")\n",
    "        ax.set_xlabel(\"Number of repetitions\")\n",
    "        ax.set_ylabel(\"Duration of a kernel (ms)\")"
   ]
  },
  {
   "cell_type": "code",
   "execution_count": null,
   "id": "305ebb86",
   "metadata": {},
   "outputs": [],
   "source": [
    "df = df_exp_ref[df_exp_ref[\"version\"]==\"ReferenceAccuracy\"]\n",
    "boxplot_benchmark_warmup(df,version=\"ReferenceAccuracy\")"
   ]
  },
  {
   "cell_type": "code",
   "execution_count": null,
   "id": "6d413f73",
   "metadata": {},
   "outputs": [],
   "source": [
    "boxplot_benchmark_repetitions(df,version=\"ReferenceAccuracy\")"
   ]
  },
  {
   "cell_type": "code",
   "execution_count": null,
   "id": "6d5a869b",
   "metadata": {},
   "outputs": [],
   "source": [
    "count = len(df_exp_ref[\"version\"].unique())\n",
    "fig, axes = plt.subplots(2, count, figsize=(5*count, 8))   # width grows with X\n",
    "plt.tight_layout()   # pad = space (inches) around and between subplots\n",
    "fig.subplots_adjust(hspace=0.3, wspace=0.4)  # vertical & horizontal padding\n",
    "\n",
    "curr = 0\n",
    "for i in df_exp_ref[\"version\"].unique():\n",
    "    df = df_exp_ref[df_exp_ref[\"version\"]==i]\n",
    "    boxplot_benchmark_warmup(df,version=i,ax=axes[0][curr])\n",
    "    boxplot_benchmark_repetitions(df,version=i,ax=axes[1][curr])\n",
    "    curr+=1\n",
    "plt.savefig(f\"./figs/.svg\", format=\"svg\", bbox_inches=\"tight\")"
   ]
  }
 ],
 "metadata": {
  "kernelspec": {
   "display_name": ".venv (3.8.20)",
   "language": "python",
   "name": "python3"
  },
  "language_info": {
   "codemirror_mode": {
    "name": "ipython",
    "version": 3
   },
   "file_extension": ".py",
   "mimetype": "text/x-python",
   "name": "python",
   "nbconvert_exporter": "python",
   "pygments_lexer": "ipython3",
   "version": "3.8.20"
  }
 },
 "nbformat": 4,
 "nbformat_minor": 5
}
